{
  "nbformat": 4,
  "nbformat_minor": 0,
  "metadata": {
    "colab": {
      "name": "index_creation.ipynb",
      "provenance": [],
      "collapsed_sections": [],
      "include_colab_link": true
    },
    "kernelspec": {
      "name": "python3",
      "display_name": "Python 3"
    },
    "language_info": {
      "name": "python"
    }
  },
  "cells": [
    {
      "cell_type": "markdown",
      "metadata": {
        "id": "view-in-github",
        "colab_type": "text"
      },
      "source": [
        "<a href=\"https://colab.research.google.com/github/Kalit31/IR-Assignment/blob/main/index_creation.ipynb\" target=\"_parent\"><img src=\"https://colab.research.google.com/assets/colab-badge.svg\" alt=\"Open In Colab\"/></a>"
      ]
    },
    {
      "cell_type": "markdown",
      "metadata": {
        "id": "0gHs4_pQd_S_"
      },
      "source": [
        "TODO -\n",
        "  Remove all comments to avoid plagiarism"
      ]
    },
    {
      "cell_type": "code",
      "metadata": {
        "colab": {
          "base_uri": "https://localhost:8080/"
        },
        "id": "ILXJH2cNC02n",
        "outputId": "d3d986c8-8ea4-474b-c9cd-16c15ab10090"
      },
      "source": [
        "from google.colab import drive\n",
        "drive.mount('/content/drive',force_remount=True)\n"
      ],
      "execution_count": null,
      "outputs": [
        {
          "output_type": "stream",
          "text": [
            "Mounted at /content/drive\n"
          ],
          "name": "stdout"
        }
      ]
    },
    {
      "cell_type": "code",
      "metadata": {
        "colab": {
          "base_uri": "https://localhost:8080/"
        },
        "id": "hhnWMDsyGbj1",
        "outputId": "ccd143e0-dd2b-4aec-8de0-037b69670dd7"
      },
      "source": [
        "pip install hashedindex"
      ],
      "execution_count": null,
      "outputs": [
        {
          "output_type": "stream",
          "text": [
            "Requirement already satisfied: hashedindex in /usr/local/lib/python3.7/dist-packages (0.10.0)\n"
          ],
          "name": "stdout"
        }
      ]
    },
    {
      "cell_type": "code",
      "metadata": {
        "colab": {
          "base_uri": "https://localhost:8080/"
        },
        "id": "2Hwa6zb4RNtp",
        "outputId": "17c77737-4d5c-4d9d-c2a6-2d8361d71c4d"
      },
      "source": [
        "pip install beautifulsoup4"
      ],
      "execution_count": null,
      "outputs": [
        {
          "output_type": "stream",
          "text": [
            "Requirement already satisfied: beautifulsoup4 in /usr/local/lib/python3.7/dist-packages (4.6.3)\n"
          ],
          "name": "stdout"
        }
      ]
    },
    {
      "cell_type": "code",
      "metadata": {
        "id": "lxAjEjDsEnTc",
        "colab": {
          "base_uri": "https://localhost:8080/"
        },
        "outputId": "3c1d93e7-d660-4ff0-9a7e-34342d6fad28"
      },
      "source": [
        "import nltk\n",
        "import re\n",
        "# import os\n",
        "import bs4 as bs \n",
        "from nltk.tokenize import word_tokenize\n",
        "import string  \n",
        "import pandas as pd\n",
        "import numpy as np\n",
        "import hashedindex\n",
        "import json\n",
        "import sys\n",
        "nltk.download('punkt')"
      ],
      "execution_count": null,
      "outputs": [
        {
          "output_type": "stream",
          "text": [
            "[nltk_data] Downloading package punkt to /root/nltk_data...\n",
            "[nltk_data]   Unzipping tokenizers/punkt.zip.\n"
          ],
          "name": "stdout"
        },
        {
          "output_type": "execute_result",
          "data": {
            "text/plain": [
              "True"
            ]
          },
          "metadata": {
            "tags": []
          },
          "execution_count": 81
        }
      ]
    },
    {
      "cell_type": "code",
      "metadata": {
        "id": "JSzAAfOqJJxY"
      },
      "source": [
        "filename = \"/content/drive/MyDrive/IR_Files/wiki_00\""
      ],
      "execution_count": null,
      "outputs": []
    },
    {
      "cell_type": "code",
      "metadata": {
        "id": "HSgfFfR2GWCP",
        "colab": {
          "base_uri": "https://localhost:8080/"
        },
        "outputId": "f790bda6-560b-46cb-d608-1a17e3b2d2d2"
      },
      "source": [
        "file1 = open(\"/content/drive/MyDrive/IR_Files/wiki_00\", \"r\")\n",
        "print(file1.read(20))"
      ],
      "execution_count": null,
      "outputs": [
        {
          "output_type": "stream",
          "text": [
            "<doc id=\"51128943\" u\n"
          ],
          "name": "stdout"
        }
      ]
    },
    {
      "cell_type": "code",
      "metadata": {
        "id": "bHAo8Sl_PRND"
      },
      "source": [
        "inv_index = {}\n",
        "\n",
        "vocab = {}\n",
        "rev_vocab ={}\n",
        "\n",
        "\n",
        "'''\n",
        "vocab{\n",
        "  0 : term0\n",
        "  1: term1\n",
        "}\n",
        "\n",
        "rev_vocab{\n",
        "  term0.word :term0\n",
        "  term1.word :term1\n",
        "}\n",
        "'''\n",
        "\n",
        "all_docs = {}\n",
        "\n",
        "\n"
      ],
      "execution_count": 129,
      "outputs": []
    },
    {
      "cell_type": "code",
      "metadata": {
        "id": "JmnRSXnZbjBz"
      },
      "source": [
        "def clean_text(file_text):\n",
        "  '''\n",
        "    takes all the text from the soup and returns a list of works excluding punctuations.\n",
        "    s='Good muffins cost $3.88\\nin New York.  Please buy me two of them.\\n\\n Thanks.'\n",
        "\n",
        "returns ['Good', 'muffins', 'cost', '3.88', 'in', 'New', 'York','Please', 'buy', 'me', 'two', 'of', 'them', 'Thanks']\n",
        "  '''\n",
        "  tokens=nltk.tokenize.word_tokenize(file_text)\n",
        "  final_tokens=[]\n",
        "  for token in tokens:\n",
        "    if(token not in string.punctuation):\n",
        "      token=token.lower()\n",
        "      final_tokens.append(token)\n",
        "  return final_tokens"
      ],
      "execution_count": 130,
      "outputs": []
    },
    {
      "cell_type": "code",
      "metadata": {
        "id": "0IVllZjBJbp4"
      },
      "source": [
        "class doc:\n",
        "  def __init__(self,tag,id):\n",
        "    self.id = id\n",
        "    self.doc_name = tag[\"title\"]\n",
        "    self.content = tag.get_text()\n",
        "    self.tokens=clean_text(self.content)\n",
        "    self.url = tag[\"url\"]\n",
        "    self.vector = np.zeros((len(vocab),1))\n",
        "  \n",
        "  def create_vector(self):\n",
        "    for token in self.tokens:\n",
        "      token_id=rev_vocab[token].id;\n",
        "      self.vector[token_id]=self.vector[token_id]+1\n",
        "      if(len(inv_index[token])!=0 and inv_index[token][-1]==self.id):\n",
        "        continue\n",
        "      inv_index[token].append(self.id)\n",
        "\n",
        "      # print(self.id,self.vector)\n",
        "      \n"
      ],
      "execution_count": 138,
      "outputs": []
    },
    {
      "cell_type": "code",
      "metadata": {
        "id": "jpByvntDZUnA"
      },
      "source": [
        "class term:\n",
        "  def __init__(self,id,word):\n",
        "    self.id=id\n",
        "    self.word=word\n",
        "    "
      ],
      "execution_count": 139,
      "outputs": []
    },
    {
      "cell_type": "code",
      "metadata": {
        "id": "pcuiJZO7XXkE"
      },
      "source": [
        "\n",
        "def create_vocab_dicts(file_text):\n",
        "  '''\n",
        "  creates \n",
        "vocab{\n",
        "  0 : term0\n",
        "  1: term1\n",
        "}\n",
        "\n",
        "rev_vocab{\n",
        "  term0.word :term0\n",
        "  term1.word :term1\n",
        "}\n",
        "using tokens returned from clean_text function\n",
        "'''\n",
        "  tokens=clean_text(file_text)\n",
        "  for token in tokens:\n",
        "    if(token in rev_vocab.keys()): \n",
        "      continue\n",
        "    term_obj=term(len(vocab),token)\n",
        "    vocab[term_obj.id]=term_obj\n",
        "    rev_vocab[term_obj.word]=term_obj\n",
        "    inv_index[term_obj.word]=[]\n"
      ],
      "execution_count": 140,
      "outputs": []
    },
    {
      "cell_type": "code",
      "metadata": {
        "id": "2spOT3mCJFj3"
      },
      "source": [
        "def parse_docs(filename):\n",
        "  file = open(filename, \"r\")\n",
        "  data = file.read(10000)\n",
        "\n",
        "  soup = bs.BeautifulSoup(data,'html.parser')\n",
        "\n",
        "\n",
        "  all_doc_tags = soup.find_all('doc')\n",
        "\n",
        "  for each_tag in all_doc_tags:\n",
        "    create_vocab_dicts(each_tag.get_text())\n",
        "  # print(vocab)\n",
        "\n",
        "  # print(soup.get_text())\n",
        "  for i, each_tag in enumerate(all_doc_tags):\n",
        "    # print(clean_text(each_tag.get_text()))\n",
        "    all_docs[each_tag[\"id\"]] = doc(each_tag,i)\n",
        "    all_docs[each_tag[\"id\"]].create_vector()\n",
        "  "
      ],
      "execution_count": 141,
      "outputs": []
    },
    {
      "cell_type": "code",
      "metadata": {
        "id": "y5LjKkVFRGE4"
      },
      "source": [
        "parse_docs(filename)\n"
      ],
      "execution_count": 142,
      "outputs": []
    },
    {
      "cell_type": "code",
      "metadata": {
        "id": "tDGznYvLVqp0",
        "colab": {
          "base_uri": "https://localhost:8080/"
        },
        "outputId": "c892fb96-1e81-46c1-821f-627ab8ccaf9d"
      },
      "source": [
        "print(inv_index)"
      ],
      "execution_count": 143,
      "outputs": [
        {
          "output_type": "stream",
          "text": [
            "{'paul': [0], 'zimmerman': [0], 'politician': [0], 'paulus': [0], 'johannes': [0], 'born': [0], '8': [0], 'november': [0], '1958': [0], 'is': [0, 1, 2, 3, 4], 'a': [0, 1, 2, 3, 4], 'dutch-born': [0], 'hong': [0], 'kong': [0], 'environmentalist': [0], 'and': [0, 1, 3, 4], 'businessman': [0], 'he': [0], 'the': [0, 1, 2, 3, 4], 'current': [0, 3], 'member': [0], 'of': [0, 1, 2, 3, 4], 'southern': [0], 'district': [0], 'council': [0], 'for': [0, 3], 'pokfulam': [0], 'ceo': [0], 'designing': [0], 'was': [0, 3, 4], 'in': [0, 1, 2, 3, 4], 'rotterdam': [0], 'netherlands': [0], 'on': [0, 3, 4], 'editorial': [0], 'board': [0], 'an': [0, 1, 3, 4], 'underground': [0], 'newspaper': [0], 'when': [0], 'high': [0], 'school': [0], '17': [0], 'part': [0], 'demonstration': [0], 'against': [0], 'closing': [0], 'down': [0], 'getting': [0], 'rid': [0], 'headmaster': [0], 'graduated': [0], 'with': [0, 3, 4], 'master': [0], 'programme': [0], 'social': [0], 'science': [0], 'economics': [0], 'from': [0, 3], 'erasmus': [0], 'university': [0], 'moved': [0, 3], 'to': [0, 1, 3, 4], 'as': [0, 3, 4], 'three-month': [0], 'trainee': [0], 'dutch': [0], 'bank': [0], '1984': [0], 'did': [0], 'not': [0, 1, 3], 'want': [0, 3], 'go': [0, 3], 'military': [0], 'service': [0], 'started': [0], 'his': [0], 'own': [0, 3], 'business': [0], 'bridge': [0], 'design': [0], '1987': [0], 'sold': [0], 'it': [0, 3, 4], 'caribiner': [0], 'international': [0, 3], '1997': [0], 'continued': [0], 'work': [0], 'people': [0], 'who': [0, 3], 'bought': [0], 'company': [0], 'until': [0], '2000': [0], 'left': [0], 'also': [0, 4], 'director': [0], 'jebsen': [0], 'travel': [0], 'pacific': [0], 'aviation': [0], 'marketing': [0], 'mf': [0], 'automotive': [0], '2003': [0], '2010.he': [0], 'currently': [0], 'vice-chairman': [0], 'coalition': [0], 'sustainable': [0], 'tourism': [0], 'advisory': [0], 'committee': [0], 'at': [0, 1, 3], 'ocean': [0], 'park': [0], 'academy': [0], 'got': [0], 'into': [0], 'politics': [0], 'working': [0], 'harbour': [0], 'front': [0], 'professionals': [0], 'green': [0], 'groups': [0], 'set': [0], 'up': [0, 3], 'non-governmental': [0], 'organisation': [0], 'which': [0], 'later': [0], 'grew': [0], 'devoted': [0], 'improving': [0], \"'s\": [0, 3], 'waterfronts': [0], 'promoting': [0], 'liveable': [0], 'density': [0], '2006': [0], 'joined': [0], 'newly-founded': [0], 'professional-oriented': [0], 'civic': [0], 'party': [0], 'represented': [0], 'civics': [0], 'run': [0], 'election': [0], 'subsector': [0], 'through': [0, 4], 'but': [0], 'elected': [0], '2007': [0], 'ran': [0], 'wong': [0], 'wang-tai': [0], 'stubbs': [0], 'road': [0], 'wan': [0], 'chai': [0], 'upper-middle-class': [0], 'constituency': [0], 'lost': [0], 'by': [0, 3, 4], 'margin': [0], '129': [0], 'votes': [0], 'won': [0], 'seat': [0], 'by-election': [0], '2010': [0, 4], 'succeeding': [0], 'ronald': [0], 'chan': [0], 'ngok-pang': [0], 'resigned': [0], 'after': [0], 'being': [0], 'hired': [0], 'chief': [0], 'executive': [0], 'office': [0], 're-elected': [0], '2011': [0], '2015': [0], 'first': [0], 'bid': [0], 'legislative': [0], '2008': [0], 'functional': [0], 'four-way': [0], 'contest': [0], 'independent': [0, 3], 'tse': [0], 'receiving': [0], '81': [0], '2012': [0], 'intended': [0], 'territory-wide': [0], 'second': [0], '``': [0, 1, 2, 3], 'super': [0], \"''\": [0, 1, 2, 3], 'refused': [0], 'nominate': [0], 'him': [0], 'gave': [0], 'citizenship': [0], 'get': [0], 'enough': [0, 3], 'nominations': [0], 'subsequently': [0], 'endorsed': [0], 'another': [0, 3], 'pro-democracy': [0], 'candidate': [0], 'frederick': [0], 'fung': [0], 'delegates': [0], 'national': [0], 'congress': [0], 'expected': [0], 'pro-beijing': [0], 'dominated': [0], '1': [0], 'october': [0], '2014': [0], 'took': [0], 'yellow': [0], 'umbrella': [0], 'protest': [0], 'china': [0], 'day': [0], 'reception': [0], 'midst': [0], 'revolution': [0], 'thousands': [0], 'protesters': [0], 'occupied': [0], 'streets': [0], 'city': [0], 'centres': [0], 'protested': [0], 'chinese': [0], 'government': [0], 'restriction': [0], '2016': [0, 3, 4], 'island': [0], 'democrat': [0], 'professional': [0], 'commons': [0], 'exchange': [0], 'became': [0, 4], 'chairman': [0], 'democratic': [0], 'foundation': [0], 'moderate': [0], 'political': [0], 'group': [0], 'path': [0], 'democracy': [0], 'brief': [0], 'period': [0], 'time': [0], 'besides': [0], 'degree': [0], 'obtained': [0], 'transport': [0], 'planning': [0], 'has': [0], 'two': [0, 3], 'marriages': [0], 'wife': [0], 'sons': [0], 'remarried': [0], 'girlfriend': [0], 'jannie': [0], 'couple': [0], 'daughter': [0], 'benthofascis': [1], 'lozoueti': [1], 'species': [1, 2], 'sea': [1], 'snail': [1], 'marine': [1], 'gastropod': [1], 'mollusk': [1], 'family': [1], 'conorbidae': [1], 'these': [1], 'snails': [1], 'are': [1, 3], 'predatory': [1], 'venomous': [1], 'they': [1], 'capable': [1], 'stinging': [1], 'humans': [1], 'therefore': [1], 'live': [1], 'ones': [1], 'should': [1], 'be': [1, 3, 4], 'handled': [1], 'carefully': [1], 'or': [1], 'all': [1, 3], 'length': [1], 'adult': [1], 'shell': [1], 'attains': [1], '21.5': [1], 'mm': [1], 'its': [1], 'diameter': [1], '9.1': [1], 'this': [1, 3], 'endemic': [1], 'norfolk': [1], 'ridge': [1], 'found': [1], 'depth': [1], '530': [1], 'm': [1], 'centropages': [2], 'elegans': [2], 'copepods': [2], 'genus': [2], 'zaena': [3], 'now': [3], '5': [3], 'tracks': [3], 'ep': [3], 'congoles': [3], 'singer-songwriter': [3], 'morisho': [3], 'released': [3], 'july': [3], '11': [3], 'anticipation': [3], 'long': [3], 'form': [3], 'release': [3], 'singles': [3], 'what': [3], 'do': [3], 'u': [3], 'bs': [3], 'originally': [3, 4], 'dr': [3], 'congo': [3], 'raised': [3], 'houston': [3], 'texas': [3, 4], 'she': [3], 'los': [3], 'angeles': [3], '2': [3], 'years': [3], 'ago': [3], 'closer': [3], 'industry': [3], 'pursue': [3], 'music': [3], 'entertainment': [3], 'industries': [3], 'highest': [3], 'levels': [3], 'song': [3], 'tells': [3], 'challenges': [3], 'relationship': [3], 'where': [3], 'highs': [3], 'lows': [3], 'can': [3, 4], 'confusing': [3], 'draining': [3], 'asking': [3], 'your': [3], 'mate': [3], \"'what\": [3], 'you': [3], 'really': [3], 'me': [3], 'falling': [3], 'out': [3], 'love': [3], 'person': [3], 'taxing': [3], 'mind': [3], 'soul': [3], \"'bs\": [3], 'tale': [3], 'someone': [3], 'already': [3], 'unbeknownst': [3], 'games': [3], 'that': [3, 4], \"'double\": [3], 'dealing': [3], 'timer': [3], \"'games\": [3], 'hard': [3], 'give': [3], \"n't\": [3], 'giving': [3], 'singular': [3], 'focus': [3], 'back': [3], 'other': [3], 'songs': [3], \"'zaena\": [3], 'include': [3], \"'diva\": [3], \"'be\": [3], 'girl': [3], \"'into\": [3], 'empowering': [3], 'woman': [3], 'waiting': [3], 'man': [3], \"'complete\": [3], 'her': [3], 'making': [3], 'moves': [3], 'control': [3], 'destiny': [3], 'releasing': [3], 'performing': [3], 'more': [3], 'higher': [3], 'profile': [3], 'shows': [3], 'events': [3], 'main': [3], 'featured': [3], 'performer': [3], 'three': [3], 'major': [3], 'bt': [3], 'award': [3], 'weekend': [3], 'showcases': [3], 'upcoming': [3], 'global': [3], 'indie': [3], 'summit': [3], 'angeles.building': [3], 'follow': [3], 'album': [3], 'slated': [3], '2017': [3], 'followed': [3], 'tour': [3], 'one': [3], 'strong': [3], 'artist': [3], 'independently': [3], 'proud': [3], 'kauo-ld': [4], 'digital': [4], 'low-powered': [4], 'television': [4], 'station': [4], 'licensed': [4], 'serving': [4], 'amarillo': [4], 'affiliate': [4], 'bounce': [4], 'tv': [4], 'network': [4], 'owned': [4], 'dtv': [4], 'america': [4], 'corporation': [4], 'creating': [4], 'duopoly': [4], 'estrella': [4], 'klkw-ld': [4], 'sister': [4], 'knkc-ld': [4], 'lubbock': [4], '’': [4], 's': [4], 'signal': [4], 'broadcast': [4], 'over': [4], 'uhf': [4], 'channel': [4], '14': [4], 'though': [4], 'displayed': [4], 'virtual': [4], '15': [4], 'via': [4], 'psip': [4], 'construction': [4], 'permit': [4], 'under': [4], 'callsign': [4], 'k14no-d': [4], 'eicb': [4], 'llc': [4], 'granted': [4], 'fcc': [4], 'february': [4], '25': [4], 'sale': [4], 'instituted': [4], 'early': [4], 'signed': [4], 'upon': [4], 'change': [4], 'june': [4], 'doctor': [4], 'drtv': [4], 'returned': [4], 'area': [4], 'kauo-ld2': [4], 'katz': [4], 'broadcasting-operated': [4], 'comedy': [4], 'laff': [4], 'available': [4], 'third': [4], 'subchannel': [4], 'seen': [4], 'nbc': [4]}\n"
          ],
          "name": "stdout"
        }
      ]
    },
    {
      "cell_type": "code",
      "metadata": {
        "id": "YDRfxp6Txjb9"
      },
      "source": [
        "class query:\n",
        "  def __init__(self):\n",
        "    self.phrase= input(\"Enter Query phrase\")\n",
        "    self.query_tokens=self.get_query_tokens()\n",
        "    self.query_vector=np.zeros( (len(vocab) , 1) )\n",
        "    self.get_query_vector()\n",
        "\n",
        "  \n",
        "  def get_query_tokens(self):\n",
        "    query_tokens = clean_text(self.phrase)\n",
        "    return query_tokens\n",
        "\n",
        "  def get_query_vector(self):\n",
        "    query_tokens=self.query_tokens\n",
        "    for token in query_tokens:\n",
        "      if(token not in rev_vocab.keys()):\n",
        "        continue\n",
        "      token_id=rev_vocab[token].id\n",
        "      self.query_vector[token_id]+=1\n",
        "\n",
        "    \n",
        "        \n"
      ],
      "execution_count": 165,
      "outputs": []
    },
    {
      "cell_type": "code",
      "metadata": {
        "id": "CKvOSTOqxB0b"
      },
      "source": [
        "q1 = query()\n",
        "print(q1.query_vector, q1.query_tokens)"
      ],
      "execution_count": null,
      "outputs": []
    },
    {
      "cell_type": "code",
      "metadata": {
        "colab": {
          "base_uri": "https://localhost:8080/",
          "height": 517
        },
        "id": "53PUd3gjwpIV",
        "outputId": "4977a5ed-4ddb-4458-dce9-6699761bcb62"
      },
      "source": [
        "idf_vector=np.zeros((len(vocab),1))\n",
        "def calc_idf():\n",
        "  for\n"
      ],
      "execution_count": 169,
      "outputs": [
        {
          "output_type": "error",
          "ename": "KeyboardInterrupt",
          "evalue": "ignored",
          "traceback": [
            "\u001b[0;31m---------------------------------------------------------------------------\u001b[0m",
            "\u001b[0;31mKeyboardInterrupt\u001b[0m                         Traceback (most recent call last)",
            "\u001b[0;32m/usr/local/lib/python3.7/dist-packages/ipykernel/kernelbase.py\u001b[0m in \u001b[0;36m_input_request\u001b[0;34m(self, prompt, ident, parent, password)\u001b[0m\n\u001b[1;32m    728\u001b[0m             \u001b[0;32mtry\u001b[0m\u001b[0;34m:\u001b[0m\u001b[0;34m\u001b[0m\u001b[0;34m\u001b[0m\u001b[0m\n\u001b[0;32m--> 729\u001b[0;31m                 \u001b[0mident\u001b[0m\u001b[0;34m,\u001b[0m \u001b[0mreply\u001b[0m \u001b[0;34m=\u001b[0m \u001b[0mself\u001b[0m\u001b[0;34m.\u001b[0m\u001b[0msession\u001b[0m\u001b[0;34m.\u001b[0m\u001b[0mrecv\u001b[0m\u001b[0;34m(\u001b[0m\u001b[0mself\u001b[0m\u001b[0;34m.\u001b[0m\u001b[0mstdin_socket\u001b[0m\u001b[0;34m,\u001b[0m \u001b[0;36m0\u001b[0m\u001b[0;34m)\u001b[0m\u001b[0;34m\u001b[0m\u001b[0;34m\u001b[0m\u001b[0m\n\u001b[0m\u001b[1;32m    730\u001b[0m             \u001b[0;32mexcept\u001b[0m \u001b[0mException\u001b[0m\u001b[0;34m:\u001b[0m\u001b[0;34m\u001b[0m\u001b[0;34m\u001b[0m\u001b[0m\n",
            "\u001b[0;32m/usr/local/lib/python3.7/dist-packages/jupyter_client/session.py\u001b[0m in \u001b[0;36mrecv\u001b[0;34m(self, socket, mode, content, copy)\u001b[0m\n\u001b[1;32m    802\u001b[0m         \u001b[0;32mtry\u001b[0m\u001b[0;34m:\u001b[0m\u001b[0;34m\u001b[0m\u001b[0;34m\u001b[0m\u001b[0m\n\u001b[0;32m--> 803\u001b[0;31m             \u001b[0mmsg_list\u001b[0m \u001b[0;34m=\u001b[0m \u001b[0msocket\u001b[0m\u001b[0;34m.\u001b[0m\u001b[0mrecv_multipart\u001b[0m\u001b[0;34m(\u001b[0m\u001b[0mmode\u001b[0m\u001b[0;34m,\u001b[0m \u001b[0mcopy\u001b[0m\u001b[0;34m=\u001b[0m\u001b[0mcopy\u001b[0m\u001b[0;34m)\u001b[0m\u001b[0;34m\u001b[0m\u001b[0;34m\u001b[0m\u001b[0m\n\u001b[0m\u001b[1;32m    804\u001b[0m         \u001b[0;32mexcept\u001b[0m \u001b[0mzmq\u001b[0m\u001b[0;34m.\u001b[0m\u001b[0mZMQError\u001b[0m \u001b[0;32mas\u001b[0m \u001b[0me\u001b[0m\u001b[0;34m:\u001b[0m\u001b[0;34m\u001b[0m\u001b[0;34m\u001b[0m\u001b[0m\n",
            "\u001b[0;32m/usr/local/lib/python3.7/dist-packages/zmq/sugar/socket.py\u001b[0m in \u001b[0;36mrecv_multipart\u001b[0;34m(self, flags, copy, track)\u001b[0m\n\u001b[1;32m    582\u001b[0m         \"\"\"\n\u001b[0;32m--> 583\u001b[0;31m         \u001b[0mparts\u001b[0m \u001b[0;34m=\u001b[0m \u001b[0;34m[\u001b[0m\u001b[0mself\u001b[0m\u001b[0;34m.\u001b[0m\u001b[0mrecv\u001b[0m\u001b[0;34m(\u001b[0m\u001b[0mflags\u001b[0m\u001b[0;34m,\u001b[0m \u001b[0mcopy\u001b[0m\u001b[0;34m=\u001b[0m\u001b[0mcopy\u001b[0m\u001b[0;34m,\u001b[0m \u001b[0mtrack\u001b[0m\u001b[0;34m=\u001b[0m\u001b[0mtrack\u001b[0m\u001b[0;34m)\u001b[0m\u001b[0;34m]\u001b[0m\u001b[0;34m\u001b[0m\u001b[0;34m\u001b[0m\u001b[0m\n\u001b[0m\u001b[1;32m    584\u001b[0m         \u001b[0;31m# have first part already, only loop while more to receive\u001b[0m\u001b[0;34m\u001b[0m\u001b[0;34m\u001b[0m\u001b[0;34m\u001b[0m\u001b[0m\n",
            "\u001b[0;32mzmq/backend/cython/socket.pyx\u001b[0m in \u001b[0;36mzmq.backend.cython.socket.Socket.recv\u001b[0;34m()\u001b[0m\n",
            "\u001b[0;32mzmq/backend/cython/socket.pyx\u001b[0m in \u001b[0;36mzmq.backend.cython.socket.Socket.recv\u001b[0;34m()\u001b[0m\n",
            "\u001b[0;32mzmq/backend/cython/socket.pyx\u001b[0m in \u001b[0;36mzmq.backend.cython.socket._recv_copy\u001b[0;34m()\u001b[0m\n",
            "\u001b[0;32m/usr/local/lib/python3.7/dist-packages/zmq/backend/cython/checkrc.pxd\u001b[0m in \u001b[0;36mzmq.backend.cython.checkrc._check_rc\u001b[0;34m()\u001b[0m\n",
            "\u001b[0;31mKeyboardInterrupt\u001b[0m: ",
            "\nDuring handling of the above exception, another exception occurred:\n",
            "\u001b[0;31mKeyboardInterrupt\u001b[0m                         Traceback (most recent call last)",
            "\u001b[0;32m<ipython-input-169-f1d4896744cc>\u001b[0m in \u001b[0;36m<module>\u001b[0;34m()\u001b[0m\n\u001b[0;32m----> 1\u001b[0;31m \u001b[0mget_query\u001b[0m\u001b[0;34m(\u001b[0m\u001b[0;34m)\u001b[0m\u001b[0;34m\u001b[0m\u001b[0;34m\u001b[0m\u001b[0m\n\u001b[0m",
            "\u001b[0;32m<ipython-input-145-2013f62b362a>\u001b[0m in \u001b[0;36mget_query\u001b[0;34m()\u001b[0m\n\u001b[1;32m      1\u001b[0m \u001b[0;32mdef\u001b[0m \u001b[0mget_query\u001b[0m\u001b[0;34m(\u001b[0m\u001b[0;34m)\u001b[0m\u001b[0;34m:\u001b[0m\u001b[0;34m\u001b[0m\u001b[0;34m\u001b[0m\u001b[0m\n\u001b[0;32m----> 2\u001b[0;31m   \u001b[0mquery\u001b[0m \u001b[0;34m=\u001b[0m \u001b[0minput\u001b[0m\u001b[0;34m(\u001b[0m\u001b[0;34m)\u001b[0m\u001b[0;34m\u001b[0m\u001b[0;34m\u001b[0m\u001b[0m\n\u001b[0m\u001b[1;32m      3\u001b[0m   \u001b[0mquery_tokens\u001b[0m \u001b[0;34m=\u001b[0m \u001b[0mclean_text\u001b[0m\u001b[0;34m(\u001b[0m\u001b[0mquery\u001b[0m\u001b[0;34m)\u001b[0m\u001b[0;34m\u001b[0m\u001b[0;34m\u001b[0m\u001b[0m\n\u001b[1;32m      4\u001b[0m \u001b[0;34m\u001b[0m\u001b[0m\n\u001b[1;32m      5\u001b[0m   \u001b[0mprint\u001b[0m\u001b[0;34m(\u001b[0m\u001b[0mquery_tokens\u001b[0m\u001b[0;34m)\u001b[0m\u001b[0;34m\u001b[0m\u001b[0;34m\u001b[0m\u001b[0m\n",
            "\u001b[0;32m/usr/local/lib/python3.7/dist-packages/ipykernel/kernelbase.py\u001b[0m in \u001b[0;36mraw_input\u001b[0;34m(self, prompt)\u001b[0m\n\u001b[1;32m    702\u001b[0m             \u001b[0mself\u001b[0m\u001b[0;34m.\u001b[0m\u001b[0m_parent_ident\u001b[0m\u001b[0;34m,\u001b[0m\u001b[0;34m\u001b[0m\u001b[0;34m\u001b[0m\u001b[0m\n\u001b[1;32m    703\u001b[0m             \u001b[0mself\u001b[0m\u001b[0;34m.\u001b[0m\u001b[0m_parent_header\u001b[0m\u001b[0;34m,\u001b[0m\u001b[0;34m\u001b[0m\u001b[0;34m\u001b[0m\u001b[0m\n\u001b[0;32m--> 704\u001b[0;31m             \u001b[0mpassword\u001b[0m\u001b[0;34m=\u001b[0m\u001b[0;32mFalse\u001b[0m\u001b[0;34m,\u001b[0m\u001b[0;34m\u001b[0m\u001b[0;34m\u001b[0m\u001b[0m\n\u001b[0m\u001b[1;32m    705\u001b[0m         )\n\u001b[1;32m    706\u001b[0m \u001b[0;34m\u001b[0m\u001b[0m\n",
            "\u001b[0;32m/usr/local/lib/python3.7/dist-packages/ipykernel/kernelbase.py\u001b[0m in \u001b[0;36m_input_request\u001b[0;34m(self, prompt, ident, parent, password)\u001b[0m\n\u001b[1;32m    732\u001b[0m             \u001b[0;32mexcept\u001b[0m \u001b[0mKeyboardInterrupt\u001b[0m\u001b[0;34m:\u001b[0m\u001b[0;34m\u001b[0m\u001b[0;34m\u001b[0m\u001b[0m\n\u001b[1;32m    733\u001b[0m                 \u001b[0;31m# re-raise KeyboardInterrupt, to truncate traceback\u001b[0m\u001b[0;34m\u001b[0m\u001b[0;34m\u001b[0m\u001b[0;34m\u001b[0m\u001b[0m\n\u001b[0;32m--> 734\u001b[0;31m                 \u001b[0;32mraise\u001b[0m \u001b[0mKeyboardInterrupt\u001b[0m\u001b[0;34m\u001b[0m\u001b[0;34m\u001b[0m\u001b[0m\n\u001b[0m\u001b[1;32m    735\u001b[0m             \u001b[0;32melse\u001b[0m\u001b[0;34m:\u001b[0m\u001b[0;34m\u001b[0m\u001b[0;34m\u001b[0m\u001b[0m\n\u001b[1;32m    736\u001b[0m                 \u001b[0;32mbreak\u001b[0m\u001b[0;34m\u001b[0m\u001b[0;34m\u001b[0m\u001b[0m\n",
            "\u001b[0;31mKeyboardInterrupt\u001b[0m: "
          ]
        }
      ]
    },
    {
      "cell_type": "code",
      "metadata": {
        "id": "DoZ_MSqcwr5v"
      },
      "source": [
        ""
      ],
      "execution_count": null,
      "outputs": []
    }
  ]
}